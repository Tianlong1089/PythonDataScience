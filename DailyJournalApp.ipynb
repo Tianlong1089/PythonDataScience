{
  "nbformat": 4,
  "nbformat_minor": 0,
  "metadata": {
    "colab": {
      "provenance": [],
      "authorship_tag": "ABX9TyOS+fajyN2lweIGUX6U/6PQ",
      "include_colab_link": true
    },
    "kernelspec": {
      "name": "python3",
      "display_name": "Python 3"
    },
    "language_info": {
      "name": "python"
    }
  },
  "cells": [
    {
      "cell_type": "markdown",
      "metadata": {
        "id": "view-in-github",
        "colab_type": "text"
      },
      "source": [
        "<a href=\"https://colab.research.google.com/github/Tianlong1089/PythonDataScience/blob/main/DailyJournalApp.ipynb\" target=\"_parent\"><img src=\"https://colab.research.google.com/assets/colab-badge.svg\" alt=\"Open In Colab\"/></a>"
      ]
    },
    {
      "cell_type": "code",
      "execution_count": 41,
      "metadata": {
        "id": "wFItsiVXNw0K"
      },
      "outputs": [],
      "source": [
        "def bitacora():\n",
        "  '''\n",
        "  Ask for the date and desplay the message.\n",
        "  Rates with a count  1 to 10.\n",
        "\n",
        "  If there is a file with content inside the code will ask you to keep writing or\n",
        "  make a new file. \n",
        "\n",
        "  This code save a file with a string correspondent with things that passed in the day.\n",
        "  It can be followed as a Bitacora.\n",
        "  '''\n",
        "  import glob\n",
        "  date = input(\"Enter today's date: (yyyy-mm-dd)\")\n",
        "\n",
        "  lst_files = glob.glob(f'{date}*.txt')\n",
        "  num_files = len(lst_files)\n",
        "\n",
        "  if num_files > 0:\n",
        "    new_num = num_files - 1\n",
        "    print(f'There are this files with same date \\n {lst_files}')\n",
        "    answer = input('Key [y] To create a new file or [n] edit any before? [y/n]  \\n  ')\n",
        "\n",
        "    if answer == 'y': # Case many files\n",
        "      mood = input(\"How do you rate your mood today for 1 to 10?\")\n",
        "      journal =  input(\"Let your thoughts flow: \\n\")\n",
        "      with open(f'{date}'+f'_{num_files}.txt','w') as file:\n",
        "        file.write(f' Rate: {mood}'+ 2*'\\n')\n",
        "        file.write(journal)\n",
        "        file.close()\n",
        "    elif answer == 'n':\n",
        "      num_file= input(\"Insert the number of the one that you want edit ... \\n Starts in 0 . \\n\")\n",
        "      if int(num_file) != 0:\n",
        "        with open(f'{date}'+'_'+f'{num_file}.txt','r') as f:\n",
        "          lines = f.readlines()\n",
        "          f.close()\n",
        "        print(lines)\n",
        "        new_text = '\\n'+input('Write the text that you what to add... \\n \\n') + '\\n'\n",
        "        lines.append(new_text)\n",
        "        with open(f'{date}'+'_'+f'{num_file}.txt','w') as file :\n",
        "          file.writelines(lines)\n",
        "          file.close()\n",
        "      else:\n",
        "        with open(f'{date}.txt','r') as file:\n",
        "          lines = file.readlines()\n",
        "          file.close()\n",
        "        print(lines)\n",
        "        new_text = input('Write the text that you want to add... \\n \\n') + '\\n'\n",
        "        print(new_text)\n",
        "        lines.append(new_text)\n",
        "        print('Done !!!')\n",
        "        with open(f'{date}.txt','w') as file :\n",
        "          file.writelines(lines)\n",
        "          file.close() \n",
        "\n",
        "  else: \n",
        "    mood = input(\"How do you rate your mood today for 1 to 10?\")\n",
        "    journal =  input(\"Let your thoughts flow: \\n\")\n",
        "    with open(f'{date}.txt','w') as file:\n",
        "        file.write(f' Rate: {mood}'+ 2*'\\n')\n",
        "        file.write(journal)\n",
        "        file.close()\n",
        "  return print(\"\\n \\n HAVE A NICE DAY !!! \")\n",
        "\n"
      ]
    },
    {
      "cell_type": "code",
      "source": [
        "#bitacora()\n",
        "\n",
        "\n",
        "\n",
        "\n"
      ],
      "metadata": {
        "id": "BDdq_hpsQIVd"
      },
      "execution_count": 44,
      "outputs": []
    },
    {
      "cell_type": "code",
      "source": [],
      "metadata": {
        "id": "JH6HgbiSt0SW"
      },
      "execution_count": null,
      "outputs": []
    }
  ]
}