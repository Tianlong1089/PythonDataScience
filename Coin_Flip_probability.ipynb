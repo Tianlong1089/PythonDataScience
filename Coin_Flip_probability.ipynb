{
  "nbformat": 4,
  "nbformat_minor": 0,
  "metadata": {
    "colab": {
      "provenance": [],
      "authorship_tag": "ABX9TyOjT5f1hja88ldJxduAtCX2",
      "include_colab_link": true
    },
    "kernelspec": {
      "name": "python3",
      "display_name": "Python 3"
    },
    "language_info": {
      "name": "python"
    }
  },
  "cells": [
    {
      "cell_type": "markdown",
      "metadata": {
        "id": "view-in-github",
        "colab_type": "text"
      },
      "source": [
        "<a href=\"https://colab.research.google.com/github/Tianlong1089/PythonDataScience/blob/main/Coin_Flip_probability.ipynb\" target=\"_parent\"><img src=\"https://colab.research.google.com/assets/colab-badge.svg\" alt=\"Open In Colab\"/></a>"
      ]
    },
    {
      "cell_type": "code",
      "execution_count": 17,
      "metadata": {
        "id": "nwfIL1Ce9Qx-"
      },
      "outputs": [],
      "source": [
        "def coin_flip():\n",
        "  '''\n",
        "  The program asks the user to enter \"head\" or \"tail\". \n",
        "  The user flips a coin on their desk, table, floor, etc., and then enters \"head\" or \"tail\".\n",
        "  The program should return the current percentage of heads in the program and write each user entry\n",
        "  in a text file .\n",
        "\n",
        "  - text file : coinflips.txt\n",
        "\n",
        "  Example:\n",
        "  >>> Throw the coin and enter head or tail here: ?  tail\n",
        "  Heads: 0.0%\n",
        "  >>> Throw thee coin and enter head or tail here: ? head\n",
        "  Heads: 50.0%\n",
        "  >>> Throw the coin and enter head or tail here: ? head\n",
        "  Heads: 66.6666666 %\n",
        "  >>> Throw the coin and enter head or tail here: ? tail\n",
        "  Heads: 50.0%\n",
        "  '''\n",
        "  import glob \n",
        "  coin_ans = input('Throw the coin and enter head or tail here: ?    ' ) + '\\n'\n",
        "\n",
        "  if len(glob.glob('coinflips.txt')) == 0:\n",
        "    past_coins=[]\n",
        "    with open('coinflips.txt','w') as file:\n",
        "      file.write(coin_ans)\n",
        "      file.close()\n",
        "  else: \n",
        "    with open('coinflips.txt','r') as file:\n",
        "      past_coins = file.readlines()\n",
        "      file.close()\n",
        "    past_coins.append(coin_ans)\n",
        "    with open('coinflips.txt','w') as file:\n",
        "      file.writelines(past_coins)     \n",
        "      file.close()\n",
        "\n",
        "  prob = past_coins.count('Head\\n') * 100  / len(past_coins)   \n",
        "\n",
        "  return print(f'Heads: {prob}%')\n",
        "\n",
        "\n",
        "  \n"
      ]
    },
    {
      "cell_type": "code",
      "source": [
        "#coin_flip()"
      ],
      "metadata": {
        "colab": {
          "base_uri": "https://localhost:8080/"
        },
        "id": "jQYIi5_dCELu",
        "outputId": "2e708772-248e-471a-bf9c-54e7a05233cb"
      },
      "execution_count": 18,
      "outputs": [
        {
          "output_type": "stream",
          "name": "stdout",
          "text": [
            "Throw the coin and enter head or tail here: ?    Tail\n",
            "Heads: 66.66666666666667%\n"
          ]
        }
      ]
    },
    {
      "cell_type": "code",
      "source": [],
      "metadata": {
        "id": "y7P6FwJnDFd3"
      },
      "execution_count": 16,
      "outputs": []
    }
  ]
}