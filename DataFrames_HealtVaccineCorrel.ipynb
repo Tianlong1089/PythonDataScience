{
  "nbformat": 4,
  "nbformat_minor": 0,
  "metadata": {
    "colab": {
      "provenance": [],
      "authorship_tag": "ABX9TyN77axzt5K+c5dmmi2fIqOo",
      "include_colab_link": true
    },
    "kernelspec": {
      "name": "python3",
      "display_name": "Python 3"
    },
    "language_info": {
      "name": "python"
    }
  },
  "cells": [
    {
      "cell_type": "markdown",
      "metadata": {
        "id": "view-in-github",
        "colab_type": "text"
      },
      "source": [
        "<a href=\"https://colab.research.google.com/github/Tianlong1089/PythonDataScience/blob/SKT_CheatSheets_InterestingCodes/DataFrames_HealtVaccineCorrel.ipynb\" target=\"_parent\"><img src=\"https://colab.research.google.com/assets/colab-badge.svg\" alt=\"Open In Colab\"/></a>"
      ]
    },
    {
      "cell_type": "code",
      "source": [
        "import pandas as pd\n",
        "import numpy as np"
      ],
      "metadata": {
        "id": "yJE4IBo1Ennm"
      },
      "execution_count": 2,
      "outputs": []
    },
    {
      "cell_type": "code",
      "source": [
        "# the proportion of children in the dataset who had a mother with the education levels equal to less than high school (<12), high school (12), more than high school but not a college graduate (>12) and college degree."
      ],
      "metadata": {
        "id": "0ShHZXRCOnxQ"
      },
      "execution_count": 3,
      "outputs": []
    },
    {
      "cell_type": "code",
      "execution_count": 4,
      "metadata": {
        "id": "29ET_gKOCkcj"
      },
      "outputs": [],
      "source": [
        "df=pd.read_csv('NISPUF17.csv')\n"
      ]
    },
    {
      "cell_type": "code",
      "source": [
        "#Ejemplo por resolver\n",
        "'''\n",
        "{\"less than high school\":0.2,\n",
        "    \"high school\":0.4,\n",
        "    \"more than high school but not college\":0.2,\n",
        "    \"college\":0.2} \n",
        "'''"
      ],
      "metadata": {
        "id": "VDrw4PB9FN1w"
      },
      "execution_count": null,
      "outputs": []
    },
    {
      "cell_type": "code",
      "source": [
        "df['EDUC1'].head()"
      ],
      "metadata": {
        "colab": {
          "base_uri": "https://localhost:8080/"
        },
        "id": "GFB4uDkDEvdm",
        "outputId": "d8b6dd09-0e93-4cca-fe3b-6b1cb1110646"
      },
      "execution_count": null,
      "outputs": [
        {
          "output_type": "execute_result",
          "data": {
            "text/plain": [
              "0    4\n",
              "1    3\n",
              "2    3\n",
              "3    4\n",
              "4    1\n",
              "Name: EDUC1, dtype: int64"
            ]
          },
          "metadata": {},
          "execution_count": 6
        }
      ]
    },
    {
      "cell_type": "code",
      "source": [
        "df['EDUC1'].unique()"
      ],
      "metadata": {
        "colab": {
          "base_uri": "https://localhost:8080/"
        },
        "id": "MFKltWOkEyaj",
        "outputId": "5f295f3e-a798-4127-83db-8873773e8cf1"
      },
      "execution_count": null,
      "outputs": [
        {
          "output_type": "execute_result",
          "data": {
            "text/plain": [
              "array([4, 3, 1, 2])"
            ]
          },
          "metadata": {},
          "execution_count": 7
        }
      ]
    },
    {
      "cell_type": "code",
      "source": [
        "df[df['EDUC1'].isnull()]"
      ],
      "metadata": {
        "colab": {
          "base_uri": "https://localhost:8080/",
          "height": 160
        },
        "id": "wDf2OdhOFzib",
        "outputId": "a1b53009-0434-41ac-e591-13ee91b0ee70"
      },
      "execution_count": null,
      "outputs": [
        {
          "output_type": "execute_result",
          "data": {
            "text/plain": [
              "Empty DataFrame\n",
              "Columns: [Unnamed: 0, SEQNUMC, SEQNUMHH, PDAT, PROVWT_D, RDDWT_D, STRATUM, YEAR, AGECPOXR, HAD_CPOX, AGEGRP, BF_ENDR06, BF_EXCLR06, BF_FORMR08, BFENDFL06, BFFORMFL06, C1R, C5R, CBF_01, CEN_REG, CHILDNM, CWIC_01, CWIC_02, EDUC1, FRSTBRN, I_HISP_K, INCPORAR, INCPORAR_I, INCPOV1, INCQ298A, LANGUAGE, M_AGEGRP2, MARITAL2, MOBIL_I, NUM_PHONE, NUM_CELLS_HH, NUM_CELLS_PARENTS, RACE_K, RACEETHK, RENT_OWN, SEX, ESTIAP17, EST_GRANT, STATE, D6R, D7, N_PRVR, PROV_FAC, REGISTRY, VFC_ORDER, HEP_BRTH, HEP_FLAG, P_NUHEPX, P_NUHIBX, P_NUHPHB, P_NUMDAH, P_NUMDHI, P_NUMDIH, P_NUMDTA, P_NUMDTP, P_NUMFLU, P_NUMFLUL, P_NUMFLUM, P_NUMFLUN, P_NUMHEA, P_NUMHEN, P_NUMHEP, P_NUMHG, P_NUMHHY, P_NUMHIB, P_NUMHIN, P_NUMHION, P_NUMHM, P_NUMHS, P_NUMIPV, P_NUMMCN, P_NUMMMR, P_NUMMMRX, P_NUMMMX, P_NUMMP, P_NUMMPR, P_NUMMRV, P_NUMMS, P_NUMMSM, P_NUMMSR, P_NUMOLN, P_NUMOPV, P_NUMPCV, P_NUMPCP, P_NUMPCC, P_NUMPCC7, P_NUMPCC13, P_NUMPCCN, P_NUMPCN, P_NUMPOL, P_NUMRB, P_NUMRG, P_NUMRM, P_NUMRO, P_NUMROT, ...]\n",
              "Index: []\n",
              "\n",
              "[0 rows x 454 columns]"
            ],
            "text/html": [
              "\n",
              "  <div id=\"df-c23d9736-31ba-4ca8-a233-579ae3073306\">\n",
              "    <div class=\"colab-df-container\">\n",
              "      <div>\n",
              "<style scoped>\n",
              "    .dataframe tbody tr th:only-of-type {\n",
              "        vertical-align: middle;\n",
              "    }\n",
              "\n",
              "    .dataframe tbody tr th {\n",
              "        vertical-align: top;\n",
              "    }\n",
              "\n",
              "    .dataframe thead th {\n",
              "        text-align: right;\n",
              "    }\n",
              "</style>\n",
              "<table border=\"1\" class=\"dataframe\">\n",
              "  <thead>\n",
              "    <tr style=\"text-align: right;\">\n",
              "      <th></th>\n",
              "      <th>Unnamed: 0</th>\n",
              "      <th>SEQNUMC</th>\n",
              "      <th>SEQNUMHH</th>\n",
              "      <th>PDAT</th>\n",
              "      <th>PROVWT_D</th>\n",
              "      <th>RDDWT_D</th>\n",
              "      <th>STRATUM</th>\n",
              "      <th>YEAR</th>\n",
              "      <th>AGECPOXR</th>\n",
              "      <th>HAD_CPOX</th>\n",
              "      <th>...</th>\n",
              "      <th>XVRCTY2</th>\n",
              "      <th>XVRCTY3</th>\n",
              "      <th>XVRCTY4</th>\n",
              "      <th>XVRCTY5</th>\n",
              "      <th>XVRCTY6</th>\n",
              "      <th>XVRCTY7</th>\n",
              "      <th>XVRCTY8</th>\n",
              "      <th>XVRCTY9</th>\n",
              "      <th>INS_STAT2_I</th>\n",
              "      <th>INS_BREAK_I</th>\n",
              "    </tr>\n",
              "  </thead>\n",
              "  <tbody>\n",
              "  </tbody>\n",
              "</table>\n",
              "<p>0 rows × 454 columns</p>\n",
              "</div>\n",
              "      <button class=\"colab-df-convert\" onclick=\"convertToInteractive('df-c23d9736-31ba-4ca8-a233-579ae3073306')\"\n",
              "              title=\"Convert this dataframe to an interactive table.\"\n",
              "              style=\"display:none;\">\n",
              "        \n",
              "  <svg xmlns=\"http://www.w3.org/2000/svg\" height=\"24px\"viewBox=\"0 0 24 24\"\n",
              "       width=\"24px\">\n",
              "    <path d=\"M0 0h24v24H0V0z\" fill=\"none\"/>\n",
              "    <path d=\"M18.56 5.44l.94 2.06.94-2.06 2.06-.94-2.06-.94-.94-2.06-.94 2.06-2.06.94zm-11 1L8.5 8.5l.94-2.06 2.06-.94-2.06-.94L8.5 2.5l-.94 2.06-2.06.94zm10 10l.94 2.06.94-2.06 2.06-.94-2.06-.94-.94-2.06-.94 2.06-2.06.94z\"/><path d=\"M17.41 7.96l-1.37-1.37c-.4-.4-.92-.59-1.43-.59-.52 0-1.04.2-1.43.59L10.3 9.45l-7.72 7.72c-.78.78-.78 2.05 0 2.83L4 21.41c.39.39.9.59 1.41.59.51 0 1.02-.2 1.41-.59l7.78-7.78 2.81-2.81c.8-.78.8-2.07 0-2.86zM5.41 20L4 18.59l7.72-7.72 1.47 1.35L5.41 20z\"/>\n",
              "  </svg>\n",
              "      </button>\n",
              "      \n",
              "  <style>\n",
              "    .colab-df-container {\n",
              "      display:flex;\n",
              "      flex-wrap:wrap;\n",
              "      gap: 12px;\n",
              "    }\n",
              "\n",
              "    .colab-df-convert {\n",
              "      background-color: #E8F0FE;\n",
              "      border: none;\n",
              "      border-radius: 50%;\n",
              "      cursor: pointer;\n",
              "      display: none;\n",
              "      fill: #1967D2;\n",
              "      height: 32px;\n",
              "      padding: 0 0 0 0;\n",
              "      width: 32px;\n",
              "    }\n",
              "\n",
              "    .colab-df-convert:hover {\n",
              "      background-color: #E2EBFA;\n",
              "      box-shadow: 0px 1px 2px rgba(60, 64, 67, 0.3), 0px 1px 3px 1px rgba(60, 64, 67, 0.15);\n",
              "      fill: #174EA6;\n",
              "    }\n",
              "\n",
              "    [theme=dark] .colab-df-convert {\n",
              "      background-color: #3B4455;\n",
              "      fill: #D2E3FC;\n",
              "    }\n",
              "\n",
              "    [theme=dark] .colab-df-convert:hover {\n",
              "      background-color: #434B5C;\n",
              "      box-shadow: 0px 1px 3px 1px rgba(0, 0, 0, 0.15);\n",
              "      filter: drop-shadow(0px 1px 2px rgba(0, 0, 0, 0.3));\n",
              "      fill: #FFFFFF;\n",
              "    }\n",
              "  </style>\n",
              "\n",
              "      <script>\n",
              "        const buttonEl =\n",
              "          document.querySelector('#df-c23d9736-31ba-4ca8-a233-579ae3073306 button.colab-df-convert');\n",
              "        buttonEl.style.display =\n",
              "          google.colab.kernel.accessAllowed ? 'block' : 'none';\n",
              "\n",
              "        async function convertToInteractive(key) {\n",
              "          const element = document.querySelector('#df-c23d9736-31ba-4ca8-a233-579ae3073306');\n",
              "          const dataTable =\n",
              "            await google.colab.kernel.invokeFunction('convertToInteractive',\n",
              "                                                     [key], {});\n",
              "          if (!dataTable) return;\n",
              "\n",
              "          const docLinkHtml = 'Like what you see? Visit the ' +\n",
              "            '<a target=\"_blank\" href=https://colab.research.google.com/notebooks/data_table.ipynb>data table notebook</a>'\n",
              "            + ' to learn more about interactive tables.';\n",
              "          element.innerHTML = '';\n",
              "          dataTable['output_type'] = 'display_data';\n",
              "          await google.colab.output.renderOutput(dataTable, element);\n",
              "          const docLink = document.createElement('div');\n",
              "          docLink.innerHTML = docLinkHtml;\n",
              "          element.appendChild(docLink);\n",
              "        }\n",
              "      </script>\n",
              "    </div>\n",
              "  </div>\n",
              "  "
            ]
          },
          "metadata": {},
          "execution_count": 9
        }
      ]
    },
    {
      "cell_type": "code",
      "source": [
        "print(df['EDUC1'].value_counts()[1])"
      ],
      "metadata": {
        "colab": {
          "base_uri": "https://localhost:8080/"
        },
        "id": "Mg9YmdTJIeXX",
        "outputId": "3b76c7f1-e253-424b-d407-c2b3e8138daf"
      },
      "execution_count": null,
      "outputs": [
        {
          "output_type": "stream",
          "name": "stdout",
          "text": [
            "2904\n"
          ]
        }
      ]
    },
    {
      "cell_type": "code",
      "source": [
        "full_size=len(df['EDUC1'])\n",
        "list_selec=[df['EDUC1'].value_counts()[i]/full_size for i in range(1,5)]\n",
        "list_keys=[\"less than high school\",\"high school\",\"more than high school but not college\",\"college\"]\n",
        "res_dct = {list_keys[i]:list_selec[i] for i in range(0, len(list_keys))}\n",
        "res_dct"
      ],
      "metadata": {
        "colab": {
          "base_uri": "https://localhost:8080/"
        },
        "id": "_6_LUK-gJqMM",
        "outputId": "2ce9123e-24fa-4f77-8165-ec673813e474"
      },
      "execution_count": null,
      "outputs": [
        {
          "output_type": "execute_result",
          "data": {
            "text/plain": [
              "{'less than high school': 0.10202002459160373,\n",
              " 'high school': 0.172352011241876,\n",
              " 'more than high school but not college': 0.24588090637625154,\n",
              " 'college': 0.47974705779026877}"
            ]
          },
          "metadata": {},
          "execution_count": 45
        }
      ]
    },
    {
      "cell_type": "code",
      "source": [
        "#  Return a tuple of the average number of influenza vaccines for those children we know received breastmilk as a child and those who know did not."
      ],
      "metadata": {
        "id": "HGBpz4PiHADx"
      },
      "execution_count": null,
      "outputs": []
    },
    {
      "cell_type": "code",
      "source": [
        "df['CBF_01'].unique()  # tomaron leche  Yes No"
      ],
      "metadata": {
        "colab": {
          "base_uri": "https://localhost:8080/"
        },
        "id": "OYneZiPFI9QP",
        "outputId": "0cf328bc-998d-495b-bf43-7118151baee9"
      },
      "execution_count": 50,
      "outputs": [
        {
          "output_type": "execute_result",
          "data": {
            "text/plain": [
              "array([ 1,  2, 99, 77])"
            ]
          },
          "metadata": {},
          "execution_count": 50
        }
      ]
    },
    {
      "cell_type": "code",
      "source": [
        "#df['P_NUMFLU'].fillna(method=\"ffill\").unique()\n",
        "df['P_NUMFLU']=df['P_NUMFLU'].fillna(df['P_NUMFLU'].mean())"
      ],
      "metadata": {
        "id": "IZYGeWeMJa48"
      },
      "execution_count": 54,
      "outputs": []
    },
    {
      "cell_type": "code",
      "source": [
        "df['P_NUMFLU'].where(df['CBF_01']==1).dropna().mean()"
      ],
      "metadata": {
        "colab": {
          "base_uri": "https://localhost:8080/"
        },
        "id": "C7-cQcUzUWbi",
        "outputId": "cdeb931c-2ae5-4938-f391-f203ce6b5309"
      },
      "execution_count": 91,
      "outputs": [
        {
          "output_type": "execute_result",
          "data": {
            "text/plain": [
              "1.862525874180097"
            ]
          },
          "metadata": {},
          "execution_count": 91
        }
      ]
    },
    {
      "cell_type": "code",
      "source": [
        "df['P_NUMFLU'].where(df['CBF_01']==2).dropna().mean()"
      ],
      "metadata": {
        "colab": {
          "base_uri": "https://localhost:8080/"
        },
        "id": "-tkOr9b1VJ2S",
        "outputId": "8dfc7940-ca39-48ad-a511-14f660cf847a"
      },
      "execution_count": 92,
      "outputs": [
        {
          "output_type": "execute_result",
          "data": {
            "text/plain": [
              "1.7216533710500808"
            ]
          },
          "metadata": {},
          "execution_count": 92
        }
      ]
    },
    {
      "cell_type": "code",
      "source": [
        "#Calculate the ratio of the number of children who contracted chickenpox but were vaccinated against it (at least one varicella dose) versus those who were vaccinated but did not contract chicken pox. "
      ],
      "metadata": {
        "id": "NgUQ_q2bWS0E"
      },
      "execution_count": null,
      "outputs": []
    },
    {
      "cell_type": "code",
      "source": [
        "'''\n",
        "{\"male\":0.2,\n",
        "    \"female\":0.4}\n",
        "'''"
      ],
      "metadata": {
        "id": "U-nZk-T-5esE"
      },
      "execution_count": null,
      "outputs": []
    },
    {
      "cell_type": "code",
      "source": [
        "df['SEX'] # Male Female"
      ],
      "metadata": {
        "colab": {
          "base_uri": "https://localhost:8080/"
        },
        "id": "mN1yhNzwavDo",
        "outputId": "644381fb-eb45-42f3-b016-7140b210098f"
      },
      "execution_count": 93,
      "outputs": [
        {
          "output_type": "execute_result",
          "data": {
            "text/plain": [
              "0        1\n",
              "1        1\n",
              "2        2\n",
              "3        2\n",
              "4        2\n",
              "        ..\n",
              "28460    2\n",
              "28461    2\n",
              "28462    2\n",
              "28463    2\n",
              "28464    2\n",
              "Name: SEX, Length: 28465, dtype: int64"
            ]
          },
          "metadata": {},
          "execution_count": 93
        }
      ]
    },
    {
      "cell_type": "code",
      "source": [
        "df['HAD_CPOX'].unique() #Yes No Don’t know Refused Missing\n"
      ],
      "metadata": {
        "colab": {
          "base_uri": "https://localhost:8080/"
        },
        "id": "Uwd9quDDavHQ",
        "outputId": "70c23cf9-bd62-4ebe-fae5-156d44e5b817"
      },
      "execution_count": 95,
      "outputs": [
        {
          "output_type": "execute_result",
          "data": {
            "text/plain": [
              "array([ 2,  1, 77, 99])"
            ]
          },
          "metadata": {},
          "execution_count": 95
        }
      ]
    },
    {
      "cell_type": "code",
      "source": [
        "df['P_NUMVRC']=df['P_NUMVRC'].fillna(0.0)"
      ],
      "metadata": {
        "id": "OU5Hzph_b5MH"
      },
      "execution_count": 7,
      "outputs": []
    },
    {
      "cell_type": "code",
      "source": [
        "df['P_NUMVRC'].unique()"
      ],
      "metadata": {
        "colab": {
          "base_uri": "https://localhost:8080/"
        },
        "id": "4SN6AN6w4cD0",
        "outputId": "bd608af6-796b-449f-90ba-f833e46a3c17"
      },
      "execution_count": 8,
      "outputs": [
        {
          "output_type": "execute_result",
          "data": {
            "text/plain": [
              "array([0., 1., 2., 3.])"
            ]
          },
          "metadata": {},
          "execution_count": 8
        }
      ]
    },
    {
      "cell_type": "code",
      "source": [
        "Pos_Vac_Men=df['SEX'].where((df['P_NUMVRC']>0) & (df['HAD_CPOX'] ==1) & (df['SEX']== 1)).dropna().value_counts()\n",
        "Pos_Novac_Men=df['SEX'].where((df['P_NUMVRC']>0) & (df['HAD_CPOX'] ==2) & (df['SEX']== 1)).dropna().value_counts()\n",
        "ratioaMen=Pos_Vac_Men/Pos_Novac_Men\n",
        "ratioaMen.iloc[0]"
      ],
      "metadata": {
        "colab": {
          "base_uri": "https://localhost:8080/"
        },
        "id": "fv3EHveK5Hb-",
        "outputId": "900d1839-3059-4d12-eed6-5c1b982edb40"
      },
      "execution_count": 31,
      "outputs": [
        {
          "output_type": "execute_result",
          "data": {
            "text/plain": [
              "0.009675583380762664"
            ]
          },
          "metadata": {},
          "execution_count": 31
        }
      ]
    },
    {
      "cell_type": "code",
      "source": [],
      "metadata": {
        "colab": {
          "base_uri": "https://localhost:8080/"
        },
        "id": "Bdh66xgn6DEB",
        "outputId": "0c29be5c-062c-4589-b5bb-2b0863fe978d"
      },
      "execution_count": 18,
      "outputs": [
        {
          "output_type": "execute_result",
          "data": {
            "text/plain": [
              "1.0    150\n",
              "Name: SEX, dtype: int64"
            ]
          },
          "metadata": {},
          "execution_count": 18
        }
      ]
    },
    {
      "cell_type": "code",
      "source": [
        "Pos_Vac_Wom=df['SEX'].where((df['P_NUMVRC']>0) & (df['HAD_CPOX'] ==1) & (df['SEX']== 2)).dropna().value_counts()\n",
        "Pos_Novac_Wom=df['SEX'].where((df['P_NUMVRC']>0) & (df['HAD_CPOX'] ==2) & (df['SEX']== 2)).dropna().value_counts()\n",
        "ratioWomen= Pos_Vac_Wom/Pos_Novac_Wom \n",
        "ratioWomen.iloc[0]"
      ],
      "metadata": {
        "colab": {
          "base_uri": "https://localhost:8080/"
        },
        "id": "yGDwQEvX8JlC",
        "outputId": "0d1cb3eb-08f5-4858-ea5a-6cb8864bb990"
      },
      "execution_count": 30,
      "outputs": [
        {
          "output_type": "execute_result",
          "data": {
            "text/plain": [
              "0.0077918259335489565"
            ]
          },
          "metadata": {},
          "execution_count": 30
        }
      ]
    },
    {
      "cell_type": "code",
      "source": [
        "{\"male\":ratioaMen.iloc[0],    \"female\":ratioWomen.iloc[0]}"
      ],
      "metadata": {
        "colab": {
          "base_uri": "https://localhost:8080/"
        },
        "id": "s4iIG4aO9o8V",
        "outputId": "629a0bac-a0b8-4f46-af75-56847c6bbc17"
      },
      "execution_count": 32,
      "outputs": [
        {
          "output_type": "execute_result",
          "data": {
            "text/plain": [
              "{'male': 0.009675583380762664, 'female': 0.0077918259335489565}"
            ]
          },
          "metadata": {},
          "execution_count": 32
        }
      ]
    },
    {
      "cell_type": "code",
      "source": [
        "### Correlacion entre vacunas e decremento de enfermedades."
      ],
      "metadata": {
        "id": "_SH-C__v95Nm"
      },
      "execution_count": null,
      "outputs": []
    },
    {
      "cell_type": "code",
      "source": [
        "def corr_chickenpox():\n",
        "    import scipy.stats as stats\n",
        "    import numpy as np\n",
        "    import pandas as pd\n",
        "    df=pd.read_csv('NISPUF17.csv')\n",
        "    df['P_NUMVRC']=df['P_NUMVRC'].fillna(0.0)\n",
        "    # this is just an example dataframe\n",
        "    #df=pd.DataFrame({\"had_chickenpox_column\":np.random.randint(1,3,size=(100)),\"num_chickenpox_vaccine_column\":np.random.randint(0,6,size=(100))})\n",
        "    corr, pval=stats.pearsonr(df['HAD_CPOX'],df['P_NUMVRC']) \n",
        "    \n",
        "    return corr\n",
        "\n",
        "    # YOUR CODE HERE\n",
        "    #raise NotImplementedError()"
      ],
      "metadata": {
        "id": "zyPB_nNXIcV7"
      },
      "execution_count": 33,
      "outputs": []
    },
    {
      "cell_type": "code",
      "source": [
        "assert -1<=corr_chickenpox()<=1"
      ],
      "metadata": {
        "id": "SWZxrCMzKCBS"
      },
      "execution_count": 34,
      "outputs": []
    },
    {
      "cell_type": "code",
      "source": [],
      "metadata": {
        "id": "3_zIWYlEKEuF"
      },
      "execution_count": null,
      "outputs": []
    }
  ]
}