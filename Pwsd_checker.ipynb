{
  "nbformat": 4,
  "nbformat_minor": 0,
  "metadata": {
    "colab": {
      "provenance": [],
      "authorship_tag": "ABX9TyP7Baon+Avko2kvDlJyNTUR",
      "include_colab_link": true
    },
    "kernelspec": {
      "name": "python3",
      "display_name": "Python 3"
    },
    "language_info": {
      "name": "python"
    }
  },
  "cells": [
    {
      "cell_type": "markdown",
      "metadata": {
        "id": "view-in-github",
        "colab_type": "text"
      },
      "source": [
        "<a href=\"https://colab.research.google.com/github/Tianlong1089/PythonDataScience/blob/main/Pwsd_checker.ipynb\" target=\"_parent\"><img src=\"https://colab.research.google.com/assets/colab-badge.svg\" alt=\"Open In Colab\"/></a>"
      ]
    },
    {
      "cell_type": "code",
      "source": [
        "def password_checker():\n",
        "  '''\n",
        "  This programm verifies the safeiness of saved passwords based on the convention of \n",
        "  caps, numbers, special characters and so on.\n",
        "  This code uses conditions \n",
        "\n",
        "  '''\n",
        "  password = input(\"Enter a new password:   \")\n",
        "  result = {}\n",
        "  digit = False\n",
        "  uppercase = False\n",
        "  characters='!\"#$%&\\'()*+,-./:;<=>?@[\\]^_`{|}~'\n",
        "  special = False\n",
        "\n",
        "\n",
        "  if len(password) >= 8 :\n",
        "    result['lenght'] = True\n",
        "  else:\n",
        "    result['lenght'] = False\n",
        "\n",
        "  for l in password:\n",
        "    if l.isdigit():\n",
        "      digit = True\n",
        "    if l.isupper():\n",
        "      uppercase =True\n",
        "  result['digit'] = digit\n",
        "  result['upper-case'] = uppercase\n",
        "  \n",
        "  for i in characters:\n",
        "    if i in password:\n",
        "      special = True\n",
        "  result['special-character'] = special\n",
        "  #print(result)\n",
        "\n",
        "  if all(result.values()):\n",
        "    print(\"Strong Password\")\n",
        "  else:\n",
        "    print(\"Weak Password\")\n",
        "    val_key = result.keys()\n",
        "    val_key=list(val_key)\n",
        "\n",
        "    val_list = result.values()\n",
        "    val_list=list(val_list)\n",
        "\n",
        "    mistake = [val_key[i] for i in range(len(val_list)) if val_list[i] == False]\n",
        "\n",
        "    print(f'Rewrite your password, these were the weakness that you have to improve: \\n {mistake}')\n",
        "  return None\n"
      ],
      "metadata": {
        "id": "iMaJLcRP1VB2"
      },
      "execution_count": 77,
      "outputs": []
    },
    {
      "cell_type": "code",
      "source": [
        "#password_checker()"
      ],
      "metadata": {
        "colab": {
          "base_uri": "https://localhost:8080/"
        },
        "id": "z9-ydHSyLHp6",
        "outputId": "d8f6d315-1278-4ef1-a3be-33a1f6ce0b3c"
      },
      "execution_count": 78,
      "outputs": [
        {
          "output_type": "stream",
          "name": "stdout",
          "text": [
            "Enter a new password:   Reex6083#\n",
            "Strong Password\n"
          ]
        }
      ]
    }
  ]
}